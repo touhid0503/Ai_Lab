{
 "cells": [
  {
   "cell_type": "code",
   "execution_count": 3,
   "id": "79cfc501",
   "metadata": {},
   "outputs": [
    {
     "name": "stdout",
     "output_type": "stream",
     "text": [
      "DFS Traversal Order: ['A', 'B', 'D', 'E', 'C', 'F']\n"
     ]
    }
   ],
   "source": [
    "# Depth-First Search (DFS) using an explicit stack\n",
    "\n",
    "def dfs_traversal(graph, start, goal):\n",
    "    marked = {node: False for node in graph}  # track visited nodes\n",
    "    stack = [start]                           # initialize stack\n",
    "    traversal_order = []                      # store traversal path\n",
    "\n",
    "    while stack:\n",
    "        v = stack.pop()                       # pop from stack (LIFO)\n",
    "        if not marked[v]:\n",
    "            traversal_order.append(v)         # record visit\n",
    "            marked[v] = True                  # mark visited\n",
    "\n",
    "            if v == goal:                     # stop if goal reached\n",
    "                return traversal_order\n",
    "\n",
    "            # push neighbors in reverse to maintain left-to-right order\n",
    "            for w in reversed(graph[v]):\n",
    "                if not marked[w]:\n",
    "                    stack.append(w)\n",
    "\n",
    "    return traversal_order  # in case goal not found, return full traversal\n",
    "\n",
    "\n",
    "# Example usage\n",
    "if __name__ == \"__main__\":\n",
    "    # Example tree (as adjacency list)\n",
    "    graph = {\n",
    "        'A': ['B', 'C'],\n",
    "        'B': ['D', 'E'],\n",
    "        'C': ['F', 'G'],\n",
    "        'D': [],\n",
    "        'E': [],\n",
    "        'F': [],\n",
    "        'G': []\n",
    "    }\n",
    "\n",
    "    start_node = 'A'\n",
    "    goal_node = 'F'\n",
    "\n",
    "    order = dfs_traversal(graph, start_node, goal_node)\n",
    "    print(\"DFS Traversal Order:\", order)\n"
   ]
  },
  {
   "cell_type": "code",
   "execution_count": 5,
   "id": "8389b5b0",
   "metadata": {},
   "outputs": [
    {
     "name": "stdout",
     "output_type": "stream",
     "text": [
      "UCS Result:\n",
      "Path to Goal: ['A', 'C', 'F']\n",
      "Total Cost: 5\n"
     ]
    }
   ],
   "source": [
    "import heapq\n",
    "\n",
    "def uniform_cost_search(graph, start, goals):\n",
    "    \"\"\"\n",
    "    Perform Uniform Cost Search (UCS) on a weighted graph.\n",
    "    :param graph: dict, adjacency list with edge costs {node: [(neighbor, cost), ...]}\n",
    "    :param start: starting node\n",
    "    :param goals: set of goal nodes\n",
    "    :return: (path, cost) of the first goal reached with minimum cost\n",
    "    \"\"\"\n",
    "    # Priority queue → stores (cost, path)\n",
    "    pq = [(0, [start])]\n",
    "    visited = set()\n",
    "\n",
    "    while pq:\n",
    "        cost, path = heapq.heappop(pq)\n",
    "        node = path[-1]\n",
    "\n",
    "        if node in visited:\n",
    "            continue\n",
    "        visited.add(node)\n",
    "\n",
    "        # If we reached a goal → return\n",
    "        if node in goals:\n",
    "            return path, cost\n",
    "\n",
    "        # Expand neighbors\n",
    "        for neighbor, edge_cost in graph.get(node, []):\n",
    "            if neighbor not in visited:\n",
    "                new_cost = cost + edge_cost\n",
    "                new_path = path + [neighbor]\n",
    "                heapq.heappush(pq, (new_cost, new_path))\n",
    "\n",
    "    return None, float(\"inf\")  # no path found\n",
    "\n",
    "\n",
    "# Example usage\n",
    "if __name__ == \"__main__\":\n",
    "    # Weighted graph as adjacency list\n",
    "    graph = {\n",
    "        'A': [('B', 2), ('C', 4)],\n",
    "        'B': [('D', 7), ('E', 3)],\n",
    "        'C': [('F', 1)],\n",
    "        'D': [],\n",
    "        'E': [('F', 1), ('G', 5)],\n",
    "        'F': [('H', 2)],\n",
    "        'G': [('H', 1)],\n",
    "        'H': []\n",
    "    }\n",
    "\n",
    "    start_node = 'A'\n",
    "    goal_nodes = {'F', 'H'}  # multiple possible goals\n",
    "\n",
    "    path, cost = uniform_cost_search(graph, start_node, goal_nodes)\n",
    "\n",
    "    print(\"UCS Result:\")\n",
    "    print(\"Path to Goal:\", path)\n",
    "    print(\"Total Cost:\", cost)\n"
   ]
  },
  {
   "cell_type": "code",
   "execution_count": null,
   "id": "ec26df40",
   "metadata": {},
   "outputs": [],
   "source": []
  }
 ],
 "metadata": {
  "kernelspec": {
   "display_name": "Python 3",
   "language": "python",
   "name": "python3"
  },
  "language_info": {
   "codemirror_mode": {
    "name": "ipython",
    "version": 3
   },
   "file_extension": ".py",
   "mimetype": "text/x-python",
   "name": "python",
   "nbconvert_exporter": "python",
   "pygments_lexer": "ipython3",
   "version": "3.12.1"
  }
 },
 "nbformat": 4,
 "nbformat_minor": 5
}
