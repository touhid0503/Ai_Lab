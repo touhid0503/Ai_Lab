{
 "cells": [
  {
   "cell_type": "code",
   "execution_count": 1,
   "id": "d07a8dbf",
   "metadata": {},
   "outputs": [
    {
     "name": "stdout",
     "output_type": "stream",
     "text": [
      "BFS Traversal Order: ['A', 'B', 'C', 'D', 'E', 'F']\n"
     ]
    }
   ],
   "source": [
    "from collections import deque\n",
    "\n",
    "\n",
    "def bfs_traversal(graph, start, goal):\n",
    "    marked = {node: False for node in graph}\n",
    "    queue = deque([start])\n",
    "    traversal_order = []\n",
    "\n",
    "    while queue:\n",
    "        v = queue.popleft()\n",
    "        if not marked[v]:\n",
    "            traversal_order.append(v)\n",
    "            marked[v] = True\n",
    "\n",
    "            if v == goal:\n",
    "                return traversal_order\n",
    "\n",
    "            for w in graph[v]:\n",
    "                if not marked[w]:\n",
    "                    queue.append(w)\n",
    "\n",
    "    return traversal_order\n",
    "\n",
    "\n",
    "if __name__ == \"__main__\":\n",
    "    graph = {\n",
    "        \"A\": [\"B\", \"C\"],\n",
    "        \"B\": [\"D\", \"E\"],\n",
    "        \"C\": [\"F\", \"G\"],\n",
    "        \"D\": [],\n",
    "        \"E\": [],\n",
    "        \"F\": [],\n",
    "        \"G\": [],\n",
    "    }\n",
    "\n",
    "    start_node = \"A\"\n",
    "    goal_node = \"F\"\n",
    "\n",
    "    order = bfs_traversal(graph, start_node, goal_node)\n",
    "    print(\"BFS Traversal Order:\", order)"
   ]
  },
  {
   "cell_type": "code",
   "execution_count": null,
   "id": "649db0f4",
   "metadata": {},
   "outputs": [
    {
     "name": "stdout",
     "output_type": "stream",
     "text": [
      "DFS Traversal Order: ['A', 'B', 'D', 'E', 'C', 'F']\n"
     ]
    }
   ],
   "source": [
    "def dfs_traversal(graph, start, goal):\n",
    "    marked = {node: False for node in graph}\n",
    "    stack = [start]\n",
    "    traversal_order = []\n",
    "\n",
    "    while stack:\n",
    "        v = stack.pop()\n",
    "        if not marked[v]:\n",
    "            traversal_order.append(v)\n",
    "            marked[v] = True\n",
    "\n",
    "            if v == goal:\n",
    "                return traversal_order\n",
    "\n",
    "            for w in reversed(graph[v]):\n",
    "                if not marked[w]:\n",
    "                    stack.append(w)\n",
    "\n",
    "    return traversal_order\n",
    "\n",
    "\n",
    "if __name__ == \"__main__\":\n",
    "    graph = {\n",
    "        \"A\": [\"B\", \"C\"],\n",
    "        \"B\": [\"D\", \"E\"],\n",
    "        \"C\": [\"F\", \"G\"],\n",
    "        \"D\": [],\n",
    "        \"E\": [],\n",
    "        \"F\": [],\n",
    "        \"G\": [],\n",
    "    }\n",
    "\n",
    "    start_node = \"A\"\n",
    "    goal_node = \"F\"\n",
    "\n",
    "    order = dfs_traversal(graph, start_node, goal_node)\n",
    "    print(\"DFS Traversal Order:\", order)"
   ]
  },
  {
   "cell_type": "code",
   "execution_count": 7,
   "id": "491d21b0",
   "metadata": {},
   "outputs": [
    {
     "name": "stdout",
     "output_type": "stream",
     "text": [
      "UCS Result:\n",
      "Path to Goal: ['A', 'C', 'F']\n",
      "Total Cost: 5\n",
      "UCS Result:\n",
      "Path to Goal: ['A', 'C', 'F', 'H']\n",
      "Total Cost: 7\n"
     ]
    }
   ],
   "source": [
    "import heapq\n",
    "\n",
    "\n",
    "def uniform_cost_search(graph, start, goals):\n",
    "    pq = [(0, [start])]\n",
    "    visited = set()\n",
    "\n",
    "    while pq:\n",
    "        cost, path = heapq.heappop(pq)\n",
    "        node = path[-1]\n",
    "\n",
    "        if node in visited:\n",
    "            continue\n",
    "        visited.add(node)\n",
    "\n",
    "        if node in goals:\n",
    "            return path, cost\n",
    "\n",
    "        for neighbor, edge_cost in graph.get(node, []):\n",
    "            if neighbor not in visited:\n",
    "                new_cost = cost + edge_cost\n",
    "                new_path = path + [neighbor]\n",
    "                heapq.heappush(pq, (new_cost, new_path))\n",
    "\n",
    "    return None, float(\"inf\")\n",
    "\n",
    "\n",
    "if __name__ == \"__main__\":\n",
    "    graph = {\n",
    "        \"A\": [(\"B\", 2), (\"C\", 4)],\n",
    "        \"B\": [(\"D\", 7), (\"E\", 3)],\n",
    "        \"C\": [(\"F\", 1)],\n",
    "        \"D\": [],\n",
    "        \"E\": [(\"F\", 1), (\"G\", 5)],\n",
    "        \"F\": [(\"H\", 2)],\n",
    "        \"G\": [(\"H\", 1)],\n",
    "        \"H\": [],\n",
    "    }\n",
    "\n",
    "    start_node = \"A\"\n",
    "    goal_nodes = {\"F\"}\n",
    "\n",
    "    path, cost = uniform_cost_search(graph, start_node, goal_nodes)\n",
    "\n",
    "    print(\"UCS Result:\")\n",
    "    print(\"Path to Goal:\", path)\n",
    "    print(\"Total Cost:\", cost)\n",
    "    \n",
    "    start_node = \"A\"\n",
    "    goal_nodes = {\"H\"}\n",
    "\n",
    "    path, cost = uniform_cost_search(graph, start_node, goal_nodes)\n",
    "\n",
    "    print(\"UCS Result:\")\n",
    "    print(\"Path to Goal:\", path)\n",
    "    print(\"Total Cost:\", cost)"
   ]
  }
 ],
 "metadata": {
  "kernelspec": {
   "display_name": "Python 3",
   "language": "python",
   "name": "python3"
  },
  "language_info": {
   "codemirror_mode": {
    "name": "ipython",
    "version": 3
   },
   "file_extension": ".py",
   "mimetype": "text/x-python",
   "name": "python",
   "nbconvert_exporter": "python",
   "pygments_lexer": "ipython3",
   "version": "3.12.1"
  }
 },
 "nbformat": 4,
 "nbformat_minor": 5
}
