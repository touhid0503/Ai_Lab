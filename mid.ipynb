{
 "cells": [
  {
   "cell_type": "code",
   "execution_count": 3,
   "id": "1c2335fd",
   "metadata": {},
   "outputs": [
    {
     "name": "stdout",
     "output_type": "stream",
     "text": [
      "* \n",
      "* * \n",
      "* * * \n",
      "* * * * \n",
      "* * * * * \n"
     ]
    }
   ],
   "source": [
    "i=\"*\"\n",
    "n=5\n",
    "\n",
    "for x in range(n):\n",
    "    for y in range(x+1):\n",
    "        print(i,end=\" \")\n",
    "    print(end=\"\\n\")"
   ]
  },
  {
   "cell_type": "code",
   "execution_count": 4,
   "id": "3a660bc5",
   "metadata": {},
   "outputs": [
    {
     "name": "stdout",
     "output_type": "stream",
     "text": [
      "* \n",
      "* * \n",
      "* * * \n",
      "* * * * \n",
      "* * * * * \n",
      "* * * * * * \n"
     ]
    }
   ],
   "source": [
    "i=\"*\"\n",
    "n=int(input())\n",
    "\n",
    "for x in range(n):\n",
    "    for y in range(x+1):\n",
    "        print(i,end=\" \")\n",
    "    print(end=\"\\n\")"
   ]
  },
  {
   "cell_type": "code",
   "execution_count": 5,
   "id": "be303b19",
   "metadata": {},
   "outputs": [
    {
     "name": "stdout",
     "output_type": "stream",
     "text": [
      "a is greater than b\n"
     ]
    }
   ],
   "source": [
    "a = 20\n",
    "b = 10\n",
    "\n",
    "if a > b:\n",
    "    print(\"a is greater than b\")\n",
    "elif b > a:\n",
    "    print(\"b is greater than a\")\n",
    "else:\n",
    "    print(\"a is equal to b\")\n"
   ]
  },
  {
   "cell_type": "code",
   "execution_count": 6,
   "id": "5e386c5d",
   "metadata": {},
   "outputs": [
    {
     "name": "stdout",
     "output_type": "stream",
     "text": [
      "The average of a and b is: 35.0\n"
     ]
    }
   ],
   "source": [
    "a = 30\n",
    "b = 40\n",
    "\n",
    "average = (a + b) / 2\n",
    "print(\"The average of a and b is:\", average)\n"
   ]
  },
  {
   "cell_type": "code",
   "execution_count": 8,
   "id": "573e4628",
   "metadata": {},
   "outputs": [
    {
     "name": "stdout",
     "output_type": "stream",
     "text": [
      "30\n",
      "25.0\n"
     ]
    }
   ],
   "source": [
    "class s1:\n",
    "    a=20\n",
    "    b=30\n",
    "    def best(self):\n",
    "        print(max(self.a,self.b))\n",
    "    def avg(self):\n",
    "        print((self.a+self.b)/2)\n",
    "    \n",
    "s=s1()\n",
    "s.best()\n",
    "s.avg()"
   ]
  },
  {
   "cell_type": "code",
   "execution_count": 16,
   "id": "08b3d84f",
   "metadata": {},
   "outputs": [
    {
     "name": "stdout",
     "output_type": "stream",
     "text": [
      "30\n",
      "25.0\n"
     ]
    }
   ],
   "source": [
    "class s1:\n",
    "    a=40\n",
    "    b=20\n",
    "    def __init__(self,a,b):\n",
    "        self.a=a\n",
    "        self.b=b\n",
    "    def best(self):\n",
    "        print(max(self.a,self.b))\n",
    "    def avg(self):\n",
    "        print((self.a+self.b)/2)\n",
    "    \n",
    "s=s1(20,30)\n",
    "s.best()\n",
    "s.avg()"
   ]
  },
  {
   "cell_type": "code",
   "execution_count": 19,
   "id": "36218d9c",
   "metadata": {},
   "outputs": [
    {
     "name": "stdout",
     "output_type": "stream",
     "text": [
      "found\n"
     ]
    }
   ],
   "source": [
    "a=[[[1,2],[3,4]],[[5,6],[7,8]]]\n",
    "k=1\n",
    "vis=False\n",
    "\n",
    "for i in range(len(a)):\n",
    "    for j in range(len(a[i])):\n",
    "        for l in range(len(a[i][j])):\n",
    "            if a[i][j][l]==k:\n",
    "                vis=True\n",
    "                \n",
    "if vis:\n",
    "    print(\"found\")\n",
    "else:\n",
    "    print(\"not found\")"
   ]
  },
  {
   "cell_type": "code",
   "execution_count": 20,
   "id": "92010d83",
   "metadata": {},
   "outputs": [
    {
     "name": "stdout",
     "output_type": "stream",
     "text": [
      "apple apple\n",
      "apple apple\n"
     ]
    }
   ],
   "source": [
    "a = [\"apple\", \"apple\", \"apple\", \"apple\"]\n",
    "\n",
    "for i in range(0, len(a), 2):\n",
    "    print(a[i], a[i + 1])\n"
   ]
  },
  {
   "cell_type": "code",
   "execution_count": 21,
   "id": "9545e069",
   "metadata": {},
   "outputs": [
    {
     "name": "stdout",
     "output_type": "stream",
     "text": [
      "maths 90\n",
      "science 80\n",
      "english 70\n"
     ]
    }
   ],
   "source": [
    "marks={\"maths\":90,\"science\":80,\"english\":70}\n",
    "for i in marks:\n",
    "    print(i,marks[i])\n",
    "    "
   ]
  },
  {
   "cell_type": "code",
   "execution_count": 22,
   "id": "e15ed649",
   "metadata": {},
   "outputs": [
    {
     "name": "stdout",
     "output_type": "stream",
     "text": [
      "{'maths': 90, 'science': 80, 'english': 70}\n"
     ]
    }
   ],
   "source": [
    "print(marks)"
   ]
  },
  {
   "cell_type": "code",
   "execution_count": 23,
   "id": "61ad1a30",
   "metadata": {},
   "outputs": [
    {
     "name": "stdout",
     "output_type": "stream",
     "text": [
      "{'maths': 90, 'english': 70}\n"
     ]
    }
   ],
   "source": [
    "del marks[\"science\"]\n",
    "print(marks)"
   ]
  },
  {
   "cell_type": "code",
   "execution_count": 24,
   "id": "5d408bbd",
   "metadata": {},
   "outputs": [
    {
     "name": "stdout",
     "output_type": "stream",
     "text": [
      "maths 90\n"
     ]
    }
   ],
   "source": [
    "for i in marks:\n",
    "    if marks[i]>75:\n",
    "        print(i,marks[i])"
   ]
  },
  {
   "cell_type": "code",
   "execution_count": 27,
   "id": "41aa285a",
   "metadata": {},
   "outputs": [],
   "source": [
    "database = {\n",
    "    \"a\": {\"math\": 50, \"physics\": 60, \"chemistry\": 80},\n",
    "    \"b\": {\"math\": 70, \"physics\": 30, \"chemistry\": 90},\n",
    "    \"c\": {\"math\": 50, \"physics\": 60, \"chemistry\": 80},\n",
    "}"
   ]
  },
  {
   "cell_type": "code",
   "execution_count": 28,
   "id": "f6baf335",
   "metadata": {},
   "outputs": [
    {
     "name": "stdout",
     "output_type": "stream",
     "text": [
      "a is passed\n",
      "b is Failed\n",
      "c is passed\n"
     ]
    }
   ],
   "source": [
    "for i in database:\n",
    "    Failed=False\n",
    "    for j in database[i]:\n",
    "        if database[i][j]<=40:\n",
    "            Failed=True\n",
    "    if Failed:\n",
    "        print(i, \"is Failed\")\n",
    "    else:\n",
    "        print(i,\"is passed\")"
   ]
  },
  {
   "cell_type": "code",
   "execution_count": 29,
   "id": "3339173d",
   "metadata": {},
   "outputs": [
    {
     "name": "stdout",
     "output_type": "stream",
     "text": [
      "Failed students (any subject < 40):\n",
      "a: {'math': 50, 'physics': 35, 'chemistry': 80}\n",
      "grade: F\n",
      "b: {'math': 70, 'physics': 39, 'chemistry': 90}\n",
      "grade: F\n",
      "\n",
      "Topper is 'c' with total 190 marks.\n",
      "c's marks: {'math': 50, 'physics': 60, 'chemistry': 80}\n"
     ]
    }
   ],
   "source": [
    "database = {\n",
    "    \"a\": {\"math\": 50, \"physics\": 35, \"chemistry\": 80},\n",
    "    \"b\": {\"math\": 70, \"physics\": 39, \"chemistry\": 90},\n",
    "    \"c\": {\"math\": 50, \"physics\": 60, \"chemistry\": 80},\n",
    "}\n",
    "\n",
    "topper = \"\"\n",
    "highest_total = 0\n",
    "failed_anyone = False\n",
    "\n",
    "print(\"Failed students (any subject < 40):\")\n",
    "for name, subjects in database.items():\n",
    "    if any(mark < 40 for mark in subjects.values()):\n",
    "        failed_anyone = True\n",
    "        print(f\"{name}: {subjects}\")\n",
    "        print(\"grade: F\")\n",
    "    else:\n",
    "        total = sum(subjects.values())\n",
    "        if total > highest_total:\n",
    "            highest_total = total\n",
    "            topper = name\n",
    "\n",
    "if not failed_anyone:\n",
    "    print(\"None of them have failed.\")\n",
    "\n",
    "if topper:\n",
    "    print(f\"\\nTopper is '{topper}' with total {highest_total} marks.\")\n",
    "    print(f\"{topper}'s marks: {database[topper]}\")\n",
    "else:\n",
    "    print(\"\\nNo topper (all students failed at least one subject).\")"
   ]
  }
 ],
 "metadata": {
  "kernelspec": {
   "display_name": "Python 3",
   "language": "python",
   "name": "python3"
  },
  "language_info": {
   "codemirror_mode": {
    "name": "ipython",
    "version": 3
   },
   "file_extension": ".py",
   "mimetype": "text/x-python",
   "name": "python",
   "nbconvert_exporter": "python",
   "pygments_lexer": "ipython3",
   "version": "3.12.1"
  }
 },
 "nbformat": 4,
 "nbformat_minor": 5
}
