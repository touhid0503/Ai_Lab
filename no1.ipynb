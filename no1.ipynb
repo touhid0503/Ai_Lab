{
 "cells": [
  {
   "cell_type": "code",
   "execution_count": 2,
   "id": "abb569a4",
   "metadata": {},
   "outputs": [],
   "source": [
    "marks={'a':40, 'b':50, 'c':60, 'd':70, 'e':80, 'g':90}"
   ]
  },
  {
   "cell_type": "code",
   "execution_count": 3,
   "id": "5349dc8c",
   "metadata": {},
   "outputs": [
    {
     "name": "stdout",
     "output_type": "stream",
     "text": [
      "{'a': 40, 'b': 50, 'c': 60, 'd': 70, 'e': 80, 'g': 90}\n"
     ]
    }
   ],
   "source": [
    "print(marks)"
   ]
  },
  {
   "cell_type": "code",
   "execution_count": 4,
   "id": "2fd46fa9",
   "metadata": {},
   "outputs": [],
   "source": [
    "del marks['g']"
   ]
  },
  {
   "cell_type": "code",
   "execution_count": 5,
   "id": "b31f7af2",
   "metadata": {},
   "outputs": [
    {
     "name": "stdout",
     "output_type": "stream",
     "text": [
      "{'a': 40, 'b': 50, 'c': 60, 'd': 70, 'e': 80}\n"
     ]
    }
   ],
   "source": [
    "print(marks)"
   ]
  },
  {
   "cell_type": "code",
   "execution_count": 11,
   "id": "e0aadad8",
   "metadata": {},
   "outputs": [
    {
     "name": "stdout",
     "output_type": "stream",
     "text": [
      "c 60\n",
      "d 70\n",
      "e 80\n"
     ]
    }
   ],
   "source": [
    "for i in marks:\n",
    "    if marks[i]>=60:\n",
    "        print(i,marks[i])"
   ]
  },
  {
   "cell_type": "code",
   "execution_count": 12,
   "id": "9e868d85",
   "metadata": {},
   "outputs": [],
   "source": [
    "database={\n",
    "    \"a\":{\n",
    "       \"math\":50, \"physics\":60, \"chemistry\":80 \n",
    "    },\n",
    "    \"b\":{\n",
    "       \"math\":70, \"physics\":80, \"chemistry\":90 \n",
    "    },\n",
    "    \"c\":{\n",
    "       \"math\":50, \"physics\":60, \"chemistry\":80 \n",
    "    }\n",
    "}"
   ]
  },
  {
   "cell_type": "code",
   "execution_count": 13,
   "id": "d60ae368",
   "metadata": {},
   "outputs": [
    {
     "name": "stdout",
     "output_type": "stream",
     "text": [
      "a {'math': 50, 'physics': 60, 'chemistry': 80}\n",
      "b {'math': 70, 'physics': 80, 'chemistry': 90}\n",
      "c {'math': 50, 'physics': 60, 'chemistry': 80}\n"
     ]
    }
   ],
   "source": [
    "for i in database:\n",
    "        print(i,database[i])"
   ]
  },
  {
   "cell_type": "code",
   "execution_count": null,
   "id": "2fcd992b",
   "metadata": {},
   "outputs": [],
   "source": [
    "database.update({\n",
    "    \"d\":50\n",
    "})"
   ]
  },
  {
   "cell_type": "code",
   "execution_count": 16,
   "id": "63ec82ec",
   "metadata": {},
   "outputs": [
    {
     "name": "stdout",
     "output_type": "stream",
     "text": [
      "a {'math': 50, 'physics': 60, 'chemistry': 80}\n",
      "b {'math': 70, 'physics': 80, 'chemistry': 90}\n",
      "c {'math': 50, 'physics': 60, 'chemistry': 80}\n",
      "d 50\n"
     ]
    }
   ],
   "source": [
    "for i in database:\n",
    "        print(i,database[i])"
   ]
  },
  {
   "cell_type": "code",
   "execution_count": 17,
   "id": "d8579f54",
   "metadata": {},
   "outputs": [],
   "source": [
    "del database[\"d\"]"
   ]
  },
  {
   "cell_type": "code",
   "execution_count": 18,
   "id": "3ebbb891",
   "metadata": {},
   "outputs": [
    {
     "name": "stdout",
     "output_type": "stream",
     "text": [
      "a {'math': 50, 'physics': 60, 'chemistry': 80}\n",
      "b {'math': 70, 'physics': 80, 'chemistry': 90}\n",
      "c {'math': 50, 'physics': 60, 'chemistry': 80}\n"
     ]
    }
   ],
   "source": [
    "for i in database:\n",
    "        print(i,database[i])"
   ]
  },
  {
   "cell_type": "code",
   "execution_count": 29,
   "id": "d07d7bc4",
   "metadata": {},
   "outputs": [
    {
     "name": "stdout",
     "output_type": "stream",
     "text": [
      "a is passed\n",
      "b is passed\n",
      "c is passed\n"
     ]
    }
   ],
   "source": [
    "for i in database:\n",
    "    failed=False\n",
    "    \n",
    "    for j in database[i]:\n",
    "        if database[i][j]<=40:\n",
    "            failed=True\n",
    "            break\n",
    "    \n",
    "    if failed:\n",
    "        print(i,\"is failed\")\n",
    "        \n",
    "    else:\n",
    "        print(i,\"is passed\")"
   ]
  },
  {
   "cell_type": "code",
   "execution_count": null,
   "id": "135ade3f",
   "metadata": {},
   "outputs": [],
   "source": []
  }
 ],
 "metadata": {
  "kernelspec": {
   "display_name": "Python 3",
   "language": "python",
   "name": "python3"
  },
  "language_info": {
   "codemirror_mode": {
    "name": "ipython",
    "version": 3
   },
   "file_extension": ".py",
   "mimetype": "text/x-python",
   "name": "python",
   "nbconvert_exporter": "python",
   "pygments_lexer": "ipython3",
   "version": "3.14.0a6"
  }
 },
 "nbformat": 4,
 "nbformat_minor": 5
}
