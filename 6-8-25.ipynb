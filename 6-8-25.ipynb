{
 "cells": [
  {
   "cell_type": "code",
   "execution_count": 1,
   "id": "abb569a4",
   "metadata": {},
   "outputs": [],
   "source": [
    "marks={'a':40, 'b':50, 'c':60, 'd':70, 'e':80, 'g':90}"
   ]
  },
  {
   "cell_type": "code",
   "execution_count": 2,
   "id": "5349dc8c",
   "metadata": {},
   "outputs": [
    {
     "name": "stdout",
     "output_type": "stream",
     "text": [
      "{'a': 40, 'b': 50, 'c': 60, 'd': 70, 'e': 80, 'g': 90}\n"
     ]
    }
   ],
   "source": [
    "print(marks)"
   ]
  },
  {
   "cell_type": "code",
   "execution_count": 3,
   "id": "2fd46fa9",
   "metadata": {},
   "outputs": [],
   "source": [
    "del marks['g']"
   ]
  },
  {
   "cell_type": "code",
   "execution_count": 4,
   "id": "b31f7af2",
   "metadata": {},
   "outputs": [
    {
     "name": "stdout",
     "output_type": "stream",
     "text": [
      "{'a': 40, 'b': 50, 'c': 60, 'd': 70, 'e': 80}\n"
     ]
    }
   ],
   "source": [
    "print(marks)"
   ]
  },
  {
   "cell_type": "code",
   "execution_count": 5,
   "id": "e0aadad8",
   "metadata": {},
   "outputs": [
    {
     "name": "stdout",
     "output_type": "stream",
     "text": [
      "c 60\n",
      "d 70\n",
      "e 80\n"
     ]
    }
   ],
   "source": [
    "for i in marks:\n",
    "    if marks[i]>=60:\n",
    "        print(i,marks[i])"
   ]
  },
  {
   "cell_type": "code",
   "execution_count": 6,
   "id": "9e868d85",
   "metadata": {},
   "outputs": [],
   "source": [
    "database={\n",
    "    \"a\":{\n",
    "       \"math\":50, \"physics\":60, \"chemistry\":80 \n",
    "    },\n",
    "    \"b\":{\n",
    "       \"math\":70, \"physics\":80, \"chemistry\":90 \n",
    "    },\n",
    "    \"c\":{\n",
    "       \"math\":50, \"physics\":60, \"chemistry\":80 \n",
    "    }\n",
    "}"
   ]
  },
  {
   "cell_type": "code",
   "execution_count": 7,
   "id": "d60ae368",
   "metadata": {},
   "outputs": [
    {
     "name": "stdout",
     "output_type": "stream",
     "text": [
      "a {'math': 50, 'physics': 60, 'chemistry': 80}\n",
      "b {'math': 70, 'physics': 80, 'chemistry': 90}\n",
      "c {'math': 50, 'physics': 60, 'chemistry': 80}\n"
     ]
    }
   ],
   "source": [
    "for i in database:\n",
    "        print(i,database[i])"
   ]
  },
  {
   "cell_type": "code",
   "execution_count": 8,
   "id": "2fcd992b",
   "metadata": {},
   "outputs": [],
   "source": [
    "database.update({\n",
    "    \"d\":50\n",
    "})"
   ]
  },
  {
   "cell_type": "code",
   "execution_count": 9,
   "id": "63ec82ec",
   "metadata": {},
   "outputs": [
    {
     "name": "stdout",
     "output_type": "stream",
     "text": [
      "a {'math': 50, 'physics': 60, 'chemistry': 80}\n",
      "b {'math': 70, 'physics': 80, 'chemistry': 90}\n",
      "c {'math': 50, 'physics': 60, 'chemistry': 80}\n",
      "d 50\n"
     ]
    }
   ],
   "source": [
    "for i in database:\n",
    "        print(i,database[i])"
   ]
  },
  {
   "cell_type": "code",
   "execution_count": 10,
   "id": "d8579f54",
   "metadata": {},
   "outputs": [],
   "source": [
    "del database[\"d\"]"
   ]
  },
  {
   "cell_type": "code",
   "execution_count": 11,
   "id": "3ebbb891",
   "metadata": {},
   "outputs": [
    {
     "name": "stdout",
     "output_type": "stream",
     "text": [
      "a {'math': 50, 'physics': 60, 'chemistry': 80}\n",
      "b {'math': 70, 'physics': 80, 'chemistry': 90}\n",
      "c {'math': 50, 'physics': 60, 'chemistry': 80}\n"
     ]
    }
   ],
   "source": [
    "for i in database:\n",
    "        print(i,database[i])"
   ]
  },
  {
   "cell_type": "code",
   "execution_count": 12,
   "id": "d07d7bc4",
   "metadata": {},
   "outputs": [
    {
     "name": "stdout",
     "output_type": "stream",
     "text": [
      "a is passed\n",
      "b is passed\n",
      "c is passed\n"
     ]
    }
   ],
   "source": [
    "for i in database:\n",
    "    failed=False\n",
    "    \n",
    "    for j in database[i]:\n",
    "        if database[i][j]<=40:\n",
    "            failed=True\n",
    "            break\n",
    "    \n",
    "    if failed:\n",
    "        print(i,\"is failed\")\n",
    "        \n",
    "    else:\n",
    "        print(i,\"is passed\")"
   ]
  },
  {
   "cell_type": "code",
   "execution_count": 2,
   "id": "135ade3f",
   "metadata": {},
   "outputs": [
    {
     "name": "stdout",
     "output_type": "stream",
     "text": [
      "Failed students (any subject < 40):\n",
      "a: {'math': 50, 'physics': 35, 'chemistry': 80}\n",
      "grade: F\n",
      "b: {'math': 70, 'physics': 39, 'chemistry': 90}\n",
      "grade: F\n",
      "\n",
      "Topper is 'c' with total 190 marks.\n",
      "c's marks: {'math': 50, 'physics': 60, 'chemistry': 80}\n"
     ]
    }
   ],
   "source": [
    "database = {\n",
    "    \"a\": {\"math\": 50, \"physics\": 35, \"chemistry\": 80},\n",
    "    \"b\": {\"math\": 70, \"physics\": 39, \"chemistry\": 90},\n",
    "    \"c\": {\"math\": 50, \"physics\": 60, \"chemistry\": 80}\n",
    "}\n",
    "\n",
    "topper = \"\"\n",
    "highest_total = 0\n",
    "failed_anyone = False  \n",
    "\n",
    "print(\"Failed students (any subject < 40):\")\n",
    "for name, subjects in database.items():\n",
    "    if any(mark < 40 for mark in subjects.values()):\n",
    "        failed_anyone = True\n",
    "        print(f\"{name}: {subjects}\")\n",
    "        print(\"grade: F\")\n",
    "    else:\n",
    "        total = sum(subjects.values())\n",
    "        if total > highest_total:\n",
    "            highest_total = total\n",
    "            topper = name\n",
    "\n",
    "if not failed_anyone:\n",
    "    print(\"None of them have failed.\")\n",
    "\n",
    "if topper:\n",
    "    print(f\"\\nTopper is '{topper}' with total {highest_total} marks.\")\n",
    "    print(f\"{topper}'s marks: {database[topper]}\")\n",
    "else:\n",
    "    print(\"\\nNo topper (all students failed at least one subject).\")\n"
   ]
  }
 ],
 "metadata": {
  "kernelspec": {
   "display_name": "Python 3",
   "language": "python",
   "name": "python3"
  },
  "language_info": {
   "codemirror_mode": {
    "name": "ipython",
    "version": 3
   },
   "file_extension": ".py",
   "mimetype": "text/x-python",
   "name": "python",
   "nbconvert_exporter": "python",
   "pygments_lexer": "ipython3",
   "version": "3.12.1"
  }
 },
 "nbformat": 4,
 "nbformat_minor": 5
}
