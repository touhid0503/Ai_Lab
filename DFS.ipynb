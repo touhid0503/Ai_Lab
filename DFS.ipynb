{
 "cells": [
  {
   "cell_type": "code",
   "execution_count": 5,
   "id": "fa110e62",
   "metadata": {},
   "outputs": [
    {
     "name": "stdout",
     "output_type": "stream",
     "text": [
      "A B D E C F G "
     ]
    }
   ],
   "source": [
    "def dfs(node):\n",
    "    if node in visited:\n",
    "        return\n",
    "    visited.add(node)\n",
    "    print(node, end=\" \")\n",
    "    for neighbor in graph[node]:\n",
    "        dfs(neighbor)\n",
    "\n",
    "graph = {\n",
    "    \"A\": [\"B\", \"C\"],\n",
    "    \"B\": [\"D\",\"E\"],\n",
    "    \"C\": [\"F\",\"G\"],\n",
    "    \"D\": [],\n",
    "    \"E\": [],\n",
    "    \"F\": [],\n",
    "    \"G\": [],\n",
    "}\n",
    "\n",
    "visited = set()\n",
    "dfs(\"A\")  \n"
   ]
  },
  {
   "cell_type": "code",
   "execution_count": 1,
   "id": "19b8196d",
   "metadata": {},
   "outputs": [
    {
     "name": "stdout",
     "output_type": "stream",
     "text": [
      "A B D E C F G "
     ]
    }
   ],
   "source": [
    "def dfs_stack(start):\n",
    "    visited = set()\n",
    "    stack = [start]   \n",
    "\n",
    "    while stack:\n",
    "        node = stack.pop()   \n",
    "        if node not in visited:\n",
    "            print(node, end=\" \")\n",
    "            visited.add(node)\n",
    "            for neighbor in reversed(graph[node]):\n",
    "                if neighbor not in visited:\n",
    "                    stack.append(neighbor)\n",
    "\n",
    "\n",
    "graph = {\n",
    "    \"A\": [\"B\", \"C\"],\n",
    "    \"B\": [\"D\",\"E\"],\n",
    "    \"C\": [\"F\",\"G\"],\n",
    "    \"D\": [],\n",
    "    \"E\": [],\n",
    "    \"F\": [],\n",
    "    \"G\": [],\n",
    "}\n",
    "\n",
    "dfs_stack(\"A\")\n"
   ]
  },
  {
   "cell_type": "code",
   "execution_count": 9,
   "id": "f7957b9f",
   "metadata": {},
   "outputs": [
    {
     "name": "stdout",
     "output_type": "stream",
     "text": [
      "['A', 'B', 'D', 'E', 'C', 'F', 'G']\n"
     ]
    }
   ],
   "source": [
    "def dfs_traversal(graph, start, goal):\n",
    "    # track visited nodes\n",
    "    marked = {node: False for node in graph}  \n",
    "    \n",
    "    # initialize stack\n",
    "    stack = [start]  \n",
    "    \n",
    "    # store traversal path\n",
    "    traversal_order = []  \n",
    "    \n",
    "    while stack:\n",
    "        node = stack.pop()  # pop from stack (LIFO)\n",
    "        \n",
    "        if not marked[node]:\n",
    "            traversal_order.append(node)  # record visit\n",
    "            marked[node] = True  # mark visited\n",
    "            \n",
    "            if node == goal:\n",
    "                return traversal_order  # stop if goal reached\n",
    "            \n",
    "            # push neighbors in reverse to maintain left-to-right order\n",
    "            for v in reversed(graph[node]):\n",
    "                if not marked[v]:\n",
    "                    stack.append(v)\n",
    "    \n",
    "    # in case goal not found, return full traversal\n",
    "    return traversal_order\n",
    "\n",
    "\n",
    "graph = {\n",
    "    'A': ['B', 'C'],\n",
    "    'B': ['D', 'E'],\n",
    "    'C': ['F','G'],\n",
    "    'D': [],\n",
    "    'E': [],\n",
    "    'F': [],\n",
    "    'G': [],\n",
    "}\n",
    "\n",
    "print(dfs_traversal(graph, 'A', 'G'))\n",
    "\n"
   ]
  },
  {
   "cell_type": "code",
   "execution_count": null,
   "id": "98799a2a",
   "metadata": {},
   "outputs": [],
   "source": []
  }
 ],
 "metadata": {
  "kernelspec": {
   "display_name": "Python 3",
   "language": "python",
   "name": "python3"
  },
  "language_info": {
   "codemirror_mode": {
    "name": "ipython",
    "version": 3
   },
   "file_extension": ".py",
   "mimetype": "text/x-python",
   "name": "python",
   "nbconvert_exporter": "python",
   "pygments_lexer": "ipython3",
   "version": "3.14.0a6"
  }
 },
 "nbformat": 4,
 "nbformat_minor": 5
}
